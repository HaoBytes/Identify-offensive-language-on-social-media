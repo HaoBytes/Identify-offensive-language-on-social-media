{
  "nbformat": 4,
  "nbformat_minor": 0,
  "metadata": {
    "accelerator": "GPU",
    "colab": {
      "name": "Bi-LSTM.ipynb",
      "provenance": [],
      "collapsed_sections": [],
      "toc_visible": true
    },
    "kernelspec": {
      "display_name": "Python 3",
      "language": "python",
      "name": "python3"
    },
    "language_info": {
      "codemirror_mode": {
        "name": "ipython",
        "version": 3
      },
      "file_extension": ".py",
      "mimetype": "text/x-python",
      "name": "python",
      "nbconvert_exporter": "python",
      "pygments_lexer": "ipython3",
      "version": "3.7.7"
    }
  },
  "cells": [
    {
      "cell_type": "markdown",
      "metadata": {
        "colab_type": "text",
        "id": "a31sFIyrHaXl"
      },
      "source": [
        "# LSTM"
      ]
    },
    {
      "cell_type": "code",
      "metadata": {
        "id": "2_GBwjr5Nx4C",
        "colab_type": "code",
        "colab": {
          "base_uri": "https://localhost:8080/",
          "height": 122
        },
        "outputId": "26f839c0-676a-4dd8-c1a4-3e2a79c8fb3b"
      },
      "source": [
        "from google.colab import drive\n",
        "drive.mount('/content/drive')"
      ],
      "execution_count": null,
      "outputs": [
        {
          "output_type": "stream",
          "text": [
            "Go to this URL in a browser: https://accounts.google.com/o/oauth2/auth?client_id=947318989803-6bn6qk8qdgf4n4g3pfee6491hc0brc4i.apps.googleusercontent.com&redirect_uri=urn%3aietf%3awg%3aoauth%3a2.0%3aoob&scope=email%20https%3a%2f%2fwww.googleapis.com%2fauth%2fdocs.test%20https%3a%2f%2fwww.googleapis.com%2fauth%2fdrive%20https%3a%2f%2fwww.googleapis.com%2fauth%2fdrive.photos.readonly%20https%3a%2f%2fwww.googleapis.com%2fauth%2fpeopleapi.readonly&response_type=code\n",
            "\n",
            "Enter your authorization code:\n",
            "··········\n",
            "Mounted at /content/drive\n"
          ],
          "name": "stdout"
        }
      ]
    },
    {
      "cell_type": "code",
      "metadata": {
        "id": "zGzhCO47j23s",
        "colab_type": "code",
        "colab": {
          "base_uri": "https://localhost:8080/",
          "height": 34
        },
        "outputId": "ca8628bb-0200-479a-e95f-087432fc8d83"
      },
      "source": [
        "import pkgutil\n",
        "search_path = ['drive/My Drive/Colab Notebooks/'] # set to None to see all modules importable from sys.path\n",
        "all_modules = [x[1] for x in pkgutil.iter_modules(path=search_path)]\n",
        "print(all_modules)"
      ],
      "execution_count": null,
      "outputs": [
        {
          "output_type": "stream",
          "text": [
            "['fcn_vgg16']\n"
          ],
          "name": "stdout"
        }
      ]
    },
    {
      "cell_type": "markdown",
      "metadata": {
        "colab_type": "text",
        "id": "81kdnnwJvTFx"
      },
      "source": [
        "## Text preparation "
      ]
    },
    {
      "cell_type": "code",
      "metadata": {
        "colab_type": "code",
        "id": "NHC0y7zaOXq8",
        "colab": {
          "base_uri": "https://localhost:8080/",
          "height": 85
        },
        "outputId": "d3af1587-1b2b-41a7-90a9-2da60b5509f4"
      },
      "source": [
        "import nltk\n",
        "nltk.download('stopwords')\n",
        "nltk.download('wordnet')\n",
        "from nltk.stem import WordNetLemmatizer\n",
        "from nltk.corpus import stopwords\n",
        "\n",
        "def replace_abbreviations(text):\n",
        "    texts = []\n",
        "    for item in text:\n",
        "        item = item.lower().replace(\"it's\", \"it is\").replace(\"i'm\", \"i am\").replace(\"he's\", \"he is\").replace(\"she's\", \"she is\")\\\n",
        "            .replace(\"we're\", \"we are\").replace(\"they're\", \"they are\").replace(\"you're\", \"you are\").replace(\"that's\", \"that is\")\\\n",
        "            .replace(\"this's\", \"this is\").replace(\"can't\", \"can not\").replace(\"don't\", \"do not\").replace(\"doesn't\", \"does not\")\\\n",
        "            .replace(\"we've\", \"we have\").replace(\"i've\", \" i have\").replace(\"isn't\", \"is not\").replace(\"won't\", \"will not\")\\\n",
        "            .replace(\"hasn't\", \"has not\").replace(\"wasn't\", \"was not\").replace(\"weren't\", \"were not\").replace(\"let's\", \"let us\")\\\n",
        "            .replace(\"didn't\", \"did not\").replace(\"hadn't\", \"had not\").replace(\"waht's\", \"what is\").replace(\"couldn't\", \"could not\")\\\n",
        "            .replace(\"you'll\", \"you will\").replace(\"you've\", \"you have\")\n",
        "        item = item.replace(\"'s\", \"\")\n",
        "        texts.append(item)\n",
        "    return texts\n",
        "\n",
        "def stemed_words(text):\n",
        "    stop_words = stopwords.words(\"english\")\n",
        "    lemma = WordNetLemmatizer()\n",
        "    texts = []\n",
        "    for item in text:\n",
        "        words = [lemma.lemmatize(w, pos='v') for w in item.split() if w not in stop_words]\n",
        "        texts.append(\" \".join(words))\n",
        "    return texts\n",
        "\n",
        "def preprocess(text):\n",
        "    text = replace_abbreviations(text)\n",
        "    text = stemed_words(text)\n",
        "    return text\n"
      ],
      "execution_count": null,
      "outputs": [
        {
          "output_type": "stream",
          "text": [
            "[nltk_data] Downloading package stopwords to /root/nltk_data...\n",
            "[nltk_data]   Unzipping corpora/stopwords.zip.\n",
            "[nltk_data] Downloading package wordnet to /root/nltk_data...\n",
            "[nltk_data]   Unzipping corpora/wordnet.zip.\n"
          ],
          "name": "stdout"
        }
      ]
    },
    {
      "cell_type": "code",
      "metadata": {
        "id": "X55Zc8rCaqXk",
        "colab_type": "code",
        "colab": {
          "base_uri": "https://localhost:8080/",
          "height": 86
        },
        "outputId": "e7758acd-7bee-4f99-a331-11b71c8aba5b"
      },
      "source": [
        "'''\n",
        "from wordcloud import WordCloud\n",
        "from matplotlib import rcParams\n",
        "import matplotlib.pyplot as plt\n",
        "import seaborn as sns\n",
        "def generate_word_cloud(text):\n",
        "    wordcloud = WordCloud(\n",
        "        width = 2000,\n",
        "        height = 1500,\n",
        "        background_color = 'black').generate(str(text))\n",
        "    fig = plt.figure(\n",
        "        figsize = (40, 30),\n",
        "        facecolor = 'k',\n",
        "        edgecolor = 'k')\n",
        "    plt.imshow(wordcloud, interpolation = 'bilinear')\n",
        "    plt.axis('off')\n",
        "    plt.tight_layout(pad=0)\n",
        "    plt.show()\n",
        "'''"
      ],
      "execution_count": null,
      "outputs": [
        {
          "output_type": "execute_result",
          "data": {
            "application/vnd.google.colaboratory.intrinsic+json": {
              "type": "string"
            },
            "text/plain": [
              "\"\\nfrom wordcloud import WordCloud\\nfrom matplotlib import rcParams\\nimport matplotlib.pyplot as plt\\nimport seaborn as sns\\ndef generate_word_cloud(text):\\n    wordcloud = WordCloud(\\n        width = 2000,\\n        height = 1500,\\n        background_color = 'black').generate(str(text))\\n    fig = plt.figure(\\n        figsize = (40, 30),\\n        facecolor = 'k',\\n        edgecolor = 'k')\\n    plt.imshow(wordcloud, interpolation = 'bilinear')\\n    plt.axis('off')\\n    plt.tight_layout(pad=0)\\n    plt.show()\\n\""
            ]
          },
          "metadata": {
            "tags": []
          },
          "execution_count": 12
        }
      ]
    },
    {
      "cell_type": "code",
      "metadata": {
        "id": "IXdiWCvLszsG",
        "colab_type": "code",
        "colab": {}
      },
      "source": [
        "import gensim\n",
        "\n",
        "\n",
        "def trainWord2Vec(filePath):\n",
        "    sentences =  gensim.models.word2vec.LineSentence(filePath) \n",
        "    model = gensim.models.Word2Vec(sentences, size=100, window=5, min_count=1, workers=4) \n",
        "\n",
        "    model.save('./CarComment_vord2vec_100')\n",
        "\n",
        "\n",
        "def testMyWord2Vec():\n",
        "    inp = './CarComment_vord2vec_100'  \n",
        "    model = gensim.models.Word2Vec.load(inp)\n",
        "\n",
        "    print('word2vec）:',model['vector'])\n",
        "    print('print：',model.most_similar('vector', topn=5))"
      ],
      "execution_count": null,
      "outputs": []
    },
    {
      "cell_type": "markdown",
      "metadata": {
        "colab_type": "text",
        "id": "D86cJx2yv81K"
      },
      "source": [
        "You can read all the ground truth captions (5 per image), into memory as follows:"
      ]
    },
    {
      "cell_type": "code",
      "metadata": {
        "id": "7G23I2A8BGIR",
        "colab_type": "code",
        "colab": {}
      },
      "source": [
        "embed_size = 256\n",
        "max_features = 2000\n",
        "\n",
        "def get_lstm_model(max_features, embed_size):\n",
        "    model = Sequential()\n",
        "    model.add(Embedding(max_features, embed_size))\n",
        "    model.add(Bidirectional(LSTM(64, recurrent_dropout=0.2)))\n",
        "    model.add(Dropout(0.5))\n",
        "    model.add(Dense(64))\n",
        "    model.add(Dropout(0.5))\n",
        "    model.add(Dense(2, activation='softmax'))\n",
        "    model.summary()\n",
        "    \n",
        "    model.compile(optimizer='adam', loss='sparse_categorical_crossentropy', metrics=['acc'])\n",
        "    \n",
        "    return model\n",
        "\n",
        "\n",
        "def model_fit(model, x, y):\n",
        "    return model.fit(x, y, batch_size=100, epochs=3, validation_split=0.1)\n",
        "\n",
        "def model_predict(model, x):\n",
        "    return model.predict_classes(x)"
      ],
      "execution_count": null,
      "outputs": []
    },
    {
      "cell_type": "markdown",
      "metadata": {
        "id": "bITsxdemBGIU",
        "colab_type": "text"
      },
      "source": [
        "### TASK A"
      ]
    },
    {
      "cell_type": "code",
      "metadata": {
        "id": "-4K-nIxPBGIV",
        "colab_type": "code",
        "colab": {}
      },
      "source": [
        "import numpy as np\n",
        "from tensorflow.keras.preprocessing.sequence import pad_sequences\n",
        "from tensorflow.keras.layers import Dense, LSTM, Embedding, Dropout, Conv1D, MaxPooling1D, Bidirectional\n",
        "from tensorflow.keras.models import Sequential\n",
        "from tensorflow.keras.preprocessing.text import Tokenizer\n",
        "\n",
        "import pandas as pd\n",
        "root = '/content/drive/My Drive/Colab Notebooks/data/OLID/'\n",
        "\n",
        "train_df = pd.read_csv(root+'training.csv')\n",
        "\n",
        "train_texts = preprocess(train_df['tweet'])\n",
        "#train_texts = train_df['tweet']\n",
        "#generate_word_cloud(train_texts)\n",
        "test_df = pd.read_csv(root+'testset-levela.csv')\n",
        "test_texts = preprocess(test_df['tweet'])\n",
        "#test_texts = test_df['tweet']\n",
        "y_test = np.array([0 if x == 'NOT' else 1 for x in test_df['label']])\n",
        "\n",
        "tok = Tokenizer(num_words=max_features)\n",
        "texts = train_texts+test_texts\n",
        "tok.fit_on_texts(texts)\n",
        "list_tok = tok.texts_to_sequences(texts)\n",
        "\n",
        "seq_tok = pad_sequences(list_tok, maxlen=None)\n",
        "\n",
        "x_train = seq_tok[:len(train_texts)]\n",
        "y_train = np.array([0 if x == 'NOT' else 1 for x in train_df['subtask_a']])\n",
        "\n",
        "x_test = seq_tok[len(train_texts):]\n",
        "y_test = np.array([0 if x == 'NOT' else 1 for x in test_df['label']])\n"
      ],
      "execution_count": null,
      "outputs": []
    },
    {
      "cell_type": "code",
      "metadata": {
        "id": "xl3xwwaltMJk",
        "colab_type": "code",
        "colab": {}
      },
      "source": [
        "embed_size = 256\n",
        "max_features = 2000\n",
        "\n",
        "def get_lstm_model(max_features, embed_size):\n",
        "    model = Sequential()\n",
        "    model.add(Embedding(2000, 256, input_length=10))\n",
        "\n",
        "    input_array = np.random.randint(2000, size=(32, 10))\n",
        "\n",
        "    model.compile('rmsprop', 'mse')\n",
        "    output_array = model.predict(input_array)\n",
        "    assert output_array.shape == (32, 10, 64)\n"
      ],
      "execution_count": null,
      "outputs": []
    },
    {
      "cell_type": "code",
      "metadata": {
        "id": "W9Fw4b06BGIX",
        "colab_type": "code",
        "colab": {
          "base_uri": "https://localhost:8080/",
          "height": 334
        },
        "outputId": "a4ed9879-d8a1-4012-fe37-91b9d2e84164"
      },
      "source": [
        "import matplotlib.pyplot as plt\n",
        "\n",
        "model = get_lstm_model(max_features, embed_size)\n",
        "model_train = model.fit(x_train,y_train, batch_size=100, epochs=4, validation_split=0.01)\n"
      ],
      "execution_count": null,
      "outputs": [
        {
          "output_type": "error",
          "ename": "AssertionError",
          "evalue": "ignored",
          "traceback": [
            "\u001b[0;31m---------------------------------------------------------------------------\u001b[0m",
            "\u001b[0;31mAssertionError\u001b[0m                            Traceback (most recent call last)",
            "\u001b[0;32m<ipython-input-11-867a519c5ea5>\u001b[0m in \u001b[0;36m<module>\u001b[0;34m()\u001b[0m\n\u001b[1;32m      1\u001b[0m \u001b[0;32mimport\u001b[0m \u001b[0mmatplotlib\u001b[0m\u001b[0;34m.\u001b[0m\u001b[0mpyplot\u001b[0m \u001b[0;32mas\u001b[0m \u001b[0mplt\u001b[0m\u001b[0;34m\u001b[0m\u001b[0;34m\u001b[0m\u001b[0m\n\u001b[1;32m      2\u001b[0m \u001b[0;34m\u001b[0m\u001b[0m\n\u001b[0;32m----> 3\u001b[0;31m \u001b[0mmodel\u001b[0m \u001b[0;34m=\u001b[0m \u001b[0mget_lstm_model\u001b[0m\u001b[0;34m(\u001b[0m\u001b[0mmax_features\u001b[0m\u001b[0;34m,\u001b[0m \u001b[0membed_size\u001b[0m\u001b[0;34m)\u001b[0m\u001b[0;34m\u001b[0m\u001b[0;34m\u001b[0m\u001b[0m\n\u001b[0m\u001b[1;32m      4\u001b[0m \u001b[0;31m#model_train = model.fit(x_train,y_train, batch_size=100, epochs=4, validation_split=0.01)\u001b[0m\u001b[0;34m\u001b[0m\u001b[0;34m\u001b[0m\u001b[0;34m\u001b[0m\u001b[0m\n",
            "\u001b[0;32m<ipython-input-9-9e6fa135f9e7>\u001b[0m in \u001b[0;36mget_lstm_model\u001b[0;34m(max_features, embed_size)\u001b[0m\n\u001b[1;32m     10\u001b[0m     \u001b[0mmodel\u001b[0m\u001b[0;34m.\u001b[0m\u001b[0mcompile\u001b[0m\u001b[0;34m(\u001b[0m\u001b[0;34m'rmsprop'\u001b[0m\u001b[0;34m,\u001b[0m \u001b[0;34m'mse'\u001b[0m\u001b[0;34m)\u001b[0m\u001b[0;34m\u001b[0m\u001b[0;34m\u001b[0m\u001b[0m\n\u001b[1;32m     11\u001b[0m     \u001b[0moutput_array\u001b[0m \u001b[0;34m=\u001b[0m \u001b[0mmodel\u001b[0m\u001b[0;34m.\u001b[0m\u001b[0mpredict\u001b[0m\u001b[0;34m(\u001b[0m\u001b[0minput_array\u001b[0m\u001b[0;34m)\u001b[0m\u001b[0;34m\u001b[0m\u001b[0;34m\u001b[0m\u001b[0m\n\u001b[0;32m---> 12\u001b[0;31m     \u001b[0;32massert\u001b[0m \u001b[0moutput_array\u001b[0m\u001b[0;34m.\u001b[0m\u001b[0mshape\u001b[0m \u001b[0;34m==\u001b[0m \u001b[0;34m(\u001b[0m\u001b[0;36m32\u001b[0m\u001b[0;34m,\u001b[0m \u001b[0;36m10\u001b[0m\u001b[0;34m,\u001b[0m \u001b[0;36m64\u001b[0m\u001b[0;34m)\u001b[0m\u001b[0;34m\u001b[0m\u001b[0;34m\u001b[0m\u001b[0m\n\u001b[0m\u001b[1;32m     13\u001b[0m \u001b[0;31m#    return model\u001b[0m\u001b[0;34m\u001b[0m\u001b[0;34m\u001b[0m\u001b[0;34m\u001b[0m\u001b[0m\n\u001b[1;32m     14\u001b[0m \u001b[0;34m\u001b[0m\u001b[0m\n",
            "\u001b[0;31mAssertionError\u001b[0m: "
          ]
        }
      ]
    },
    {
      "cell_type": "code",
      "metadata": {
        "id": "whX8H1YvBGIb",
        "colab_type": "code",
        "colab": {
          "base_uri": "https://localhost:8080/",
          "height": 472
        },
        "outputId": "ec0673c9-2a0c-4d54-c7d8-857a6926de82"
      },
      "source": [
        "y_pred = model_predict(model, x_test)\n",
        "\n",
        "plt.figure(figsize=(10, 5))\n",
        "\n",
        "plt.subplot(121)\n",
        "plt.plot(model_train.history['acc'], c='g', label='train')\n",
        "plt.plot(model_train.history['val_acc'], c='b', label='validation')\n",
        "plt.legend()\n",
        "plt.xlabel('epoch')\n",
        "plt.ylabel('accuracy')\n",
        "plt.title('Model accuracy')\n",
        "\n",
        "plt.subplot(122)\n",
        "plt.plot(model_train.history['loss'], c='g', label='train')\n",
        "plt.plot(model_train.history['val_loss'], c='b', label='validation')\n",
        "plt.legend()\n",
        "plt.xlabel('epoch')\n",
        "plt.ylabel('loss')\n",
        "plt.title('Model loss')\n",
        "\n",
        "plt.show()\n",
        "\n",
        "\n",
        "\n",
        "count = 0\n",
        "count_off1 = 0\n",
        "count_not1 = 0\n",
        "count_off2 = 0\n",
        "count_not2 = 0\n",
        "for i in range(len(y_test)):\n",
        "    if y_test[i] == y_pred[i]:\n",
        "        count += 1\n",
        "    if y_test[i] == 0:\n",
        "        count_not1 +=1\n",
        "        if y_test[i] == y_pred[i]:\n",
        "            count_not2 +=1\n",
        "    else:\n",
        "        count_off1 += 1\n",
        "        if y_test[i] == y_pred[i]:\n",
        "            count_off2 +=1\n",
        "        \n",
        "        \n",
        "print(count/len(y_test))\n",
        "print(count_not2/count_not1)\n",
        "print(count_off2/count_off1)\n",
        "\n"
      ],
      "execution_count": null,
      "outputs": [
        {
          "output_type": "stream",
          "text": [
            "WARNING:tensorflow:From <ipython-input-3-75aeb6ac2afa>:23: Sequential.predict_classes (from tensorflow.python.keras.engine.sequential) is deprecated and will be removed after 2021-01-01.\n",
            "Instructions for updating:\n",
            "Please use instead:* `np.argmax(model.predict(x), axis=-1)`,   if your model does multi-class classification   (e.g. if it uses a `softmax` last-layer activation).* `(model.predict(x) > 0.5).astype(\"int32\")`,   if your model does binary classification   (e.g. if it uses a `sigmoid` last-layer activation).\n"
          ],
          "name": "stdout"
        },
        {
          "output_type": "display_data",
          "data": {
            "image/png": "[encoded data removed]",
            "text/plain": [
              "<Figure size 720x360 with 2 Axes>"
            ]
          },
          "metadata": {
            "tags": [],
            "needs_background": "light"
          }
        },
        {
          "output_type": "stream",
          "text": [
            "0.7930232558139535\n",
            "0.9032258064516129\n",
            "0.5083333333333333\n"
          ],
          "name": "stdout"
        }
      ]
    },
    {
      "cell_type": "markdown",
      "metadata": {
        "id": "lDg2w5HaINGu",
        "colab_type": "text"
      },
      "source": [
        "ROC"
      ]
    },
    {
      "cell_type": "code",
      "metadata": {
        "id": "sP1aRU_vILmz",
        "colab_type": "code",
        "colab": {}
      },
      "source": [
        "from sklearn.metrics import roc_curve, auc\n",
        "import matplotlib as mpl  \n",
        "import matplotlib.pyplot as plt\n",
        "\n",
        "def plot_roc(labels, predict_prob):\n",
        "    false_positive_rate,true_positive_rate,thresholds=roc_curve(labels, predict_prob)\n",
        "    roc_auc=auc(false_positive_rate, true_positive_rate)\n",
        "    plt.title('ROC')\n",
        "    plt.plot(false_positive_rate, true_positive_rate,'b',label='AUC = %0.4f'% roc_auc)\n",
        "    plt.legend(loc='lower right')\n",
        "    plt.plot([0,1],[0,1],'r--')\n",
        "    plt.ylabel('TPR')\n",
        "    plt.xlabel('FPR')"
      ],
      "execution_count": null,
      "outputs": []
    },
    {
      "cell_type": "code",
      "metadata": {
        "id": "3bk0mGs6BGId",
        "colab_type": "code",
        "colab": {
          "base_uri": "https://localhost:8080/",
          "height": 537
        },
        "outputId": "11298f4d-c6ab-44cb-8c22-058c6eacfa4d"
      },
      "source": [
        "import sklearn as sk\n",
        "\n",
        "print(\"Accuracy\", sk.metrics.accuracy_score(y_test, y_pred))\n",
        "print(\"Precision\", sk.metrics.precision_score(y_test, y_pred, average=None))\n",
        "print( \"Recall\", sk.metrics.recall_score(y_test, y_pred, average=None))\n",
        "print( \"f1_score\", sk.metrics.f1_score(y_test, y_pred, average=None))\n",
        "print( \"f1_score(macro)\", sk.metrics.f1_score(y_test, y_pred, average='macro'))\n",
        "print( \"f1_score(micro)\", sk.metrics.f1_score(y_test, y_pred, average='micro'))\n",
        "print( \"f1_score(weight)\", sk.metrics.f1_score(y_test, y_pred, average='weighted'))\n",
        "print( \"MCC\", sk.metrics.matthews_corrcoef(y_test, y_pred, sample_weight=None))\n",
        "print( \"confusion_matrix\")\n",
        "'''\n",
        "plt.figure(figsize=(10, 5))\n",
        "plt.subplot(121)\n",
        "plot_roc(y_test, y_pred)\n",
        "\n",
        "print( sk.metrics.confusion_matrix(y_test, y_pred))\n",
        "\n",
        "confusion =  sk.metrics.confusion_matrix(y_test, y_pred)\n",
        "\n",
        "guess = ['NOT', 'OFF']\n",
        "fact = ['NOT', 'OFF']\n",
        "classes = list(set(fact))\n",
        "classes.sort()\n",
        "\n",
        "plt.subplot(122)\n",
        "plt.imshow(confusion, cmap=plt.cm.Blues)\n",
        "indices = range(len(confusion))\n",
        "plt.xticks(indices, classes)\n",
        "plt.yticks(indices, classes)\n",
        "plt.colorbar()\n",
        "plt.xlabel('Predicted label')\n",
        "plt.ylabel('True label')\n",
        "for first_index in range(len(confusion)):\n",
        "    for second_index in range(len(confusion[first_index])):\n",
        "        plt.text(first_index, second_index, confusion[first_index][second_index])\n",
        "'''"
      ],
      "execution_count": null,
      "outputs": [
        {
          "output_type": "stream",
          "text": [
            "Accuracy 0.7930232558139535\n",
            "Precision [0.8259587  0.67032967]\n",
            "Recall [0.90322581 0.50833333]\n",
            "f1_score [0.86286595 0.57819905]\n",
            "f1_score(macro) 0.7205324998722058\n",
            "f1_score(micro) 0.7930232558139535\n",
            "f1_score(weight) 0.7834240232919868\n",
            "MCC 0.45194249150525684\n",
            "confusion_matrix\n",
            "[[560  60]\n",
            " [118 122]]\n"
          ],
          "name": "stdout"
        },
        {
          "output_type": "display_data",
          "data": {
            "image/png": "[encoded data removed]",
            "text/plain": [
              "<Figure size 720x360 with 3 Axes>"
            ]
          },
          "metadata": {
            "tags": [],
            "needs_background": "light"
          }
        }
      ]
    },
    {
      "cell_type": "code",
      "metadata": {
        "id": "B63wG1fMBGIg",
        "colab_type": "code",
        "colab": {
          "base_uri": "https://localhost:8080/",
          "height": 279
        },
        "outputId": "8ce308dd-b18a-4463-e5df-c348b5ade796"
      },
      "source": [
        "guess = ['NOT', 'OFF']\n",
        "fact = ['NOT', 'OFF']\n",
        "classes = list(set(fact))\n",
        "classes.sort()\n",
        "plt.imshow(confusion, cmap=plt.cm.Blues)\n",
        "indices = range(len(confusion))\n",
        "plt.xticks(indices, classes)\n",
        "plt.yticks(indices, classes)\n",
        "plt.colorbar()\n",
        "plt.xlabel('Predicted label')\n",
        "plt.ylabel('True label')\n",
        "for first_index in range(len(confusion)):\n",
        "    for second_index in range(len(confusion[first_index])):\n",
        "        plt.text(first_index, second_index, confusion[first_index][second_index])\n",
        " \n"
      ],
      "execution_count": null,
      "outputs": [
        {
          "output_type": "display_data",
          "data": {
            "image/png": "[encoded data removed]",
            "text/plain": [
              "<Figure size 432x288 with 2 Axes>"
            ]
          },
          "metadata": {
            "tags": [],
            "needs_background": "light"
          }
        }
      ]
    },
    {
      "cell_type": "markdown",
      "metadata": {
        "id": "Vntg7jTNBGIj",
        "colab_type": "text"
      },
      "source": [
        "### TASK B"
      ]
    },
    {
      "cell_type": "code",
      "metadata": {
        "id": "mbaQga93BGIj",
        "colab_type": "code",
        "colab": {
          "base_uri": "https://localhost:8080/",
          "height": 52
        },
        "outputId": "f28da96a-eb9e-4ea8-a5f9-63efc06befdc"
      },
      "source": [
        "import numpy as np\n",
        "import pandas as pd\n",
        "from tensorflow.keras.preprocessing.sequence import pad_sequences\n",
        "from tensorflow.keras.layers import Dense, LSTM, Embedding, Dropout, Conv1D, MaxPooling1D, Bidirectional\n",
        "from tensorflow.keras.models import Sequential\n",
        "from tensorflow.keras.preprocessing.text import Tokenizer\n",
        "\n",
        "root = '/content/drive/My Drive/Colab Notebooks/data/OLID/'\n",
        "\n",
        "#train_df = pd.read_csv(root+'training.csv')\n",
        "train_texts = preprocess(train_df['tweet'])\n",
        "#print(train_df)\n",
        "#test_df = pd.read_csv(root+'testset-levelb.csv')\n",
        "test_texts = preprocess(test_df['tweet'])\n",
        "\n",
        "tok = Tokenizer(num_words=max_features)\n",
        "texts = train_texts+test_texts\n",
        "#texts = train_df + test_df\n",
        "tok.fit_on_texts(texts)\n",
        "list_tok = tok.texts_to_sequences(texts)\n",
        "\n",
        "seq_tok = pad_sequences(list_tok, maxlen=None)\n",
        "\n",
        "x_train = seq_tok[:len(train_texts)]\n",
        "y_train = np.array([0 if x == 'TIN' else 1 for x in train_df['sbutask_b']])\n",
        "\n",
        "x_test = seq_tok[len(train_texts):]\n",
        "y_test = np.array([0 if x == 'TIN' else 1 for x in test_df['label']])\n",
        "\n",
        "'''\n",
        "x_train = seq_tok[:len(train_df)]\n",
        "y_train = np.array([0 if x == 'TIN' else 1 for x in train_df['sbutask_b']])\n",
        "\n",
        "x_test = seq_tok[len(train_df):]\n",
        "y_test = np.array([0 if x == 'TIN' else 1 for x in test_df['label']])\n",
        "'''"
      ],
      "execution_count": null,
      "outputs": [
        {
          "output_type": "execute_result",
          "data": {
            "application/vnd.google.colaboratory.intrinsic+json": {
              "type": "string"
            },
            "text/plain": [
              "\"\\nx_train = seq_tok[:len(train_df)]\\ny_train = np.array([0 if x == 'TIN' else 1 for x in train_df['sbutask_b']])\\n\\nx_test = seq_tok[len(train_df):]\\ny_test = np.array([0 if x == 'TIN' else 1 for x in test_df['label']])\\n\""
            ]
          },
          "metadata": {
            "tags": []
          },
          "execution_count": 14
        }
      ]
    },
    {
      "cell_type": "code",
      "metadata": {
        "scrolled": true,
        "id": "MN4PuQZSBGIl",
        "colab_type": "code",
        "colab": {
          "base_uri": "https://localhost:8080/",
          "height": 1000
        },
        "outputId": "c27c7528-d11b-4a64-9f5e-8dbdbb43abf2"
      },
      "source": [
        "import matplotlib.pyplot as plt\n",
        "\n",
        "model = get_lstm_model(max_features, embed_size)\n",
        "model_train = model.fit(x_train,y_train, batch_size=50, epochs=8, validation_split=0.01)\n",
        "y_pred = model_predict(model, x_test)\n",
        "\n",
        "'''\n",
        "plt.figure(figsize=(10, 5))\n",
        "\n",
        "plt.subplot(121)\n",
        "plt.plot(model_train.history['acc'], c='g', label='train')\n",
        "plt.plot(model_train.history['val_acc'], c='b', label='validation')\n",
        "plt.legend()\n",
        "plt.xlabel('epoch')\n",
        "plt.ylabel('accuracy')\n",
        "plt.title('Model accuracy')\n",
        "\n",
        "plt.subplot(122)\n",
        "plt.plot(model_train.history['loss'], c='g', label='train')\n",
        "plt.plot(model_train.history['val_loss'], c='b', label='validation')\n",
        "plt.legend()\n",
        "plt.xlabel('epoch')\n",
        "plt.ylabel('loss')\n",
        "plt.title('Model loss')\n",
        "\n",
        "plt.show()\n",
        "'''\n",
        "\n",
        "count = 0\n",
        "for i in range(len(y_test)):\n",
        "    if y_test[i] == y_pred[i]:\n",
        "        count += 1\n",
        "print(count/len(y_test))"
      ],
      "execution_count": null,
      "outputs": [
        {
          "output_type": "stream",
          "text": [
            "WARNING:tensorflow:Layer lstm_5 will not use cuDNN kernel since it doesn't meet the cuDNN kernel criteria. It will use generic GPU kernel as fallback when running on GPU\n",
            "WARNING:tensorflow:Layer lstm_5 will not use cuDNN kernel since it doesn't meet the cuDNN kernel criteria. It will use generic GPU kernel as fallback when running on GPU\n",
            "WARNING:tensorflow:Layer lstm_5 will not use cuDNN kernel since it doesn't meet the cuDNN kernel criteria. It will use generic GPU kernel as fallback when running on GPU\n",
            "Model: \"sequential_5\"\n",
            "_________________________________________________________________\n",
            "Layer (type)                 Output Shape              Param #   \n",
            "=================================================================\n",
            "embedding_5 (Embedding)      (None, None, 256)         512000    \n",
            "_________________________________________________________________\n",
            "bidirectional_5 (Bidirection (None, 64)                73984     \n",
            "_________________________________________________________________\n",
            "dropout_10 (Dropout)         (None, 64)                0         \n",
            "_________________________________________________________________\n",
            "dense_10 (Dense)             (None, 64)                4160      \n",
            "_________________________________________________________________\n",
            "dropout_11 (Dropout)         (None, 64)                0         \n",
            "_________________________________________________________________\n",
            "dense_11 (Dense)             (None, 2)                 130       \n",
            "=================================================================\n",
            "Total params: 590,274\n",
            "Trainable params: 590,274\n",
            "Non-trainable params: 0\n",
            "_________________________________________________________________\n",
            "Epoch 1/8\n",
            "263/263 [==============================] - 291s 1s/step - loss: 0.5672 - acc: 0.7247 - val_loss: 0.4985 - val_acc: 0.7744\n",
            "Epoch 2/8\n",
            "263/263 [==============================] - 280s 1s/step - loss: 0.4841 - acc: 0.7802 - val_loss: 0.4723 - val_acc: 0.7970\n",
            "Epoch 3/8\n",
            "263/263 [==============================] - 272s 1s/step - loss: 0.4428 - acc: 0.8032 - val_loss: 0.4854 - val_acc: 0.8045\n",
            "Epoch 4/8\n",
            "263/263 [==============================] - 275s 1s/step - loss: 0.4138 - acc: 0.8186 - val_loss: 0.5135 - val_acc: 0.8045\n",
            "Epoch 5/8\n",
            "263/263 [==============================] - 271s 1s/step - loss: 0.3770 - acc: 0.8363 - val_loss: 0.5359 - val_acc: 0.8271\n",
            "Epoch 6/8\n",
            "263/263 [==============================] - 276s 1s/step - loss: 0.3467 - acc: 0.8477 - val_loss: 0.5765 - val_acc: 0.7970\n",
            "Epoch 7/8\n",
            "263/263 [==============================] - 270s 1s/step - loss: 0.3097 - acc: 0.8685 - val_loss: 0.6548 - val_acc: 0.8271\n",
            "Epoch 8/8\n",
            "263/263 [==============================] - 271s 1s/step - loss: 0.2805 - acc: 0.8786 - val_loss: 0.6861 - val_acc: 0.8195\n"
          ],
          "name": "stdout"
        },
        {
          "output_type": "display_data",
          "data": {
            "image/png": "[encoded data removed]",
            "text/plain": [
              "<Figure size 720x360 with 2 Axes>"
            ]
          },
          "metadata": {
            "tags": [],
            "needs_background": "light"
          }
        },
        {
          "output_type": "stream",
          "text": [
            "0.4125\n"
          ],
          "name": "stdout"
        }
      ]
    },
    {
      "cell_type": "code",
      "metadata": {
        "id": "RPiJrZyaBGIo",
        "colab_type": "code",
        "colab": {
          "base_uri": "https://localhost:8080/",
          "height": 537
        },
        "outputId": "bce89288-e750-4b14-b221-74905886915f"
      },
      "source": [
        "import sklearn as sk\n",
        "y_pred = model_predict(model, x_test)\n",
        "\n",
        "        \n",
        "print(\"Accuracy\", sk.metrics.accuracy_score(y_test, y_pred))\n",
        "print(\"Precision\", sk.metrics.precision_score(y_test, y_pred, average=None))\n",
        "print( \"Recall\", sk.metrics.recall_score(y_test, y_pred, average=None))\n",
        "print( \"f1_score\", sk.metrics.f1_score(y_test, y_pred, average=None))\n",
        "print( \"f1_score(macro)\", sk.metrics.f1_score(y_test, y_pred, average='macro'))\n",
        "print( \"f1_score(micro)\", sk.metrics.f1_score(y_test, y_pred, average='micro'))\n",
        "print( \"f1_score(weight)\", sk.metrics.f1_score(y_test, y_pred, average='weighted'))\n",
        "print( \"MCC\", sk.metrics.matthews_corrcoef(y_test, y_pred, sample_weight=None))\n",
        "\n",
        "plt.figure(figsize=(10, 5))\n",
        "plt.subplot(121)\n",
        "plot_roc(y_test, y_pred)\n",
        "\n",
        "print( \"confusion_matrix\")\n",
        "print( sk.metrics.confusion_matrix(y_test, y_pred))\n",
        "\n",
        "confusion =  sk.metrics.confusion_matrix(y_test, y_pred)\n",
        "\n",
        "guess = ['TIN', 'UNT']\n",
        "fact = ['TIN', 'UNT']\n",
        "classes = list(set(fact))\n",
        "classes.sort()\n",
        "\n",
        "plt.subplot(122)\n",
        "plt.imshow(confusion, cmap=plt.cm.Blues)\n",
        "indices = range(len(confusion))\n",
        "plt.xticks(indices, classes)\n",
        "plt.yticks(indices, classes)\n",
        "plt.colorbar()\n",
        "plt.xlabel('Predicted label')\n",
        "plt.ylabel('True label')\n",
        "for first_index in range(len(confusion)):\n",
        "    for second_index in range(len(confusion[first_index])):\n",
        "        plt.text(first_index, second_index, confusion[first_index][second_index])"
      ],
      "execution_count": null,
      "outputs": [
        {
          "output_type": "stream",
          "text": [
            "Accuracy 0.4125\n",
            "Precision [0.82727273 0.06153846]\n",
            "Recall [0.42723005 0.2962963 ]\n",
            "f1_score [0.56346749 0.10191083]\n",
            "f1_score(macro) 0.33268916014276984\n",
            "f1_score(micro) 0.4125\n",
            "f1_score(weight) 0.5115423675336712\n",
            "MCC -0.17533048000747176\n",
            "confusion_matrix\n",
            "[[ 91 122]\n",
            " [ 19   8]]\n"
          ],
          "name": "stdout"
        },
        {
          "output_type": "display_data",
          "data": {
            "image/png": "[encoded data removed]",
            "text/plain": [
              "<Figure size 720x360 with 3 Axes>"
            ]
          },
          "metadata": {
            "tags": [],
            "needs_background": "light"
          }
        }
      ]
    },
    {
      "cell_type": "markdown",
      "metadata": {
        "id": "mWiWTmGOBGIq",
        "colab_type": "text"
      },
      "source": [
        "### TASK C"
      ]
    },
    {
      "cell_type": "code",
      "metadata": {
        "id": "qXXUTkmLBGIr",
        "colab_type": "code",
        "colab": {
          "base_uri": "https://localhost:8080/",
          "height": 34
        },
        "outputId": "eae92e60-5f4b-4f5d-b45e-e2b2e66a5d7c"
      },
      "source": [
        "import numpy as np\n",
        "from tensorflow.keras.preprocessing.sequence import pad_sequences\n",
        "from tensorflow.keras.layers import Dense, LSTM, Embedding, Dropout, Conv1D, MaxPooling1D, Bidirectional\n",
        "from tensorflow.keras.models import Sequential\n",
        "from tensorflow.keras.preprocessing.text import Tokenizer\n",
        "\n",
        "train_df = pd.read_csv(root+'training.csv')\n",
        "train_texts = preprocess(train_df['tweet'])\n",
        "\n",
        "test_df = pd.read_csv(root+'testset-levelc.csv')\n",
        "test_texts = preprocess(test_df['tweet'])\n",
        "\n",
        "tok = Tokenizer(num_words=max_features)\n",
        "texts = train_texts+test_texts\n",
        "tok.fit_on_texts(texts)\n",
        "list_tok = tok.texts_to_sequences(texts)\n",
        "\n",
        "seq_tok = pad_sequences(list_tok, maxlen=None)\n",
        "\n",
        "x_train = seq_tok[:len(train_texts)]\n",
        "y_train = []\n",
        "for x in train_df['subtask_c']:\n",
        "    if x == 'IND': y = 0\n",
        "    elif x == 'OTH': y = 1 \n",
        "    else: y = 2\n",
        "    y_train.append(y)\n",
        "y_train = np.array(y_train)\n",
        "\n",
        "x_test = seq_tok[len(train_texts):]\n",
        "\n",
        "y_test = []\n",
        "for x in test_df['label']:\n",
        "    if x == 'IND': y = 0\n",
        "    elif x == 'OTH': y = 1 \n",
        "    else: y = 2\n",
        "    y_test.append(y)\n",
        "y_test = np.array(y_test)\n",
        "\n",
        "print(y_train)"
      ],
      "execution_count": null,
      "outputs": [
        {
          "output_type": "stream",
          "text": [
            "[2 0 2 ... 1 2 2]\n"
          ],
          "name": "stdout"
        }
      ]
    },
    {
      "cell_type": "code",
      "metadata": {
        "scrolled": true,
        "id": "sbTsPUHcBGIt",
        "colab_type": "code",
        "colab": {
          "base_uri": "https://localhost:8080/",
          "height": 615
        },
        "outputId": "0df72fd4-b07f-4d3b-e2ab-ee5459a984ad"
      },
      "source": [
        "import matplotlib.pyplot as plt\n",
        "\n",
        "model = get_lstm_model(max_features, embed_size)\n",
        "model.fit(x_train,y_train, batch_size=100, epochs=5, validation_split=0.01)\n",
        "\n",
        "count = 0\n",
        "for i in range(len(y_test)):\n",
        "    if y_test[i] == y_pred[i]:\n",
        "        count += 1\n",
        "print(count/len(y_test))"
      ],
      "execution_count": null,
      "outputs": [
        {
          "output_type": "stream",
          "text": [
            "WARNING:tensorflow:Layer lstm_2 will not use cuDNN kernel since it doesn't meet the cuDNN kernel criteria. It will use generic GPU kernel as fallback when running on GPU\n",
            "WARNING:tensorflow:Layer lstm_2 will not use cuDNN kernel since it doesn't meet the cuDNN kernel criteria. It will use generic GPU kernel as fallback when running on GPU\n",
            "WARNING:tensorflow:Layer lstm_2 will not use cuDNN kernel since it doesn't meet the cuDNN kernel criteria. It will use generic GPU kernel as fallback when running on GPU\n",
            "Model: \"sequential_2\"\n",
            "_________________________________________________________________\n",
            "Layer (type)                 Output Shape              Param #   \n",
            "=================================================================\n",
            "embedding_2 (Embedding)      (None, None, 256)         512000    \n",
            "_________________________________________________________________\n",
            "bidirectional_2 (Bidirection (None, 64)                73984     \n",
            "_________________________________________________________________\n",
            "dropout_4 (Dropout)          (None, 64)                0         \n",
            "_________________________________________________________________\n",
            "dense_4 (Dense)              (None, 64)                4160      \n",
            "_________________________________________________________________\n",
            "dropout_5 (Dropout)          (None, 64)                0         \n",
            "_________________________________________________________________\n",
            "dense_5 (Dense)              (None, 2)                 130       \n",
            "=================================================================\n",
            "Total params: 590,274\n",
            "Trainable params: 590,274\n",
            "Non-trainable params: 0\n",
            "_________________________________________________________________\n",
            "Epoch 1/5\n",
            "132/132 [==============================] - 138s 1s/step - loss: nan - acc: 0.1807 - val_loss: nan - val_acc: 0.1880\n",
            "Epoch 2/5\n",
            "132/132 [==============================] - 138s 1s/step - loss: nan - acc: 0.1817 - val_loss: nan - val_acc: 0.1880\n",
            "Epoch 3/5\n",
            "132/132 [==============================] - 136s 1s/step - loss: nan - acc: 0.1817 - val_loss: nan - val_acc: 0.1880\n",
            "Epoch 4/5\n",
            "132/132 [==============================] - 140s 1s/step - loss: nan - acc: 0.1817 - val_loss: nan - val_acc: 0.1880\n",
            "Epoch 5/5\n",
            "132/132 [==============================] - 139s 1s/step - loss: nan - acc: 0.1817 - val_loss: nan - val_acc: 0.1880\n",
            "0.27230046948356806\n"
          ],
          "name": "stdout"
        }
      ]
    },
    {
      "cell_type": "code",
      "metadata": {
        "id": "AGwFJhDdSJP8",
        "colab_type": "code",
        "colab": {}
      },
      "source": [
        "from sklearn.metrics import roc_curve, auc\n",
        "import matplotlib as mpl  \n",
        "import matplotlib.pyplot as plt\n",
        "\n",
        "def plot_roc(labels, predict_prob):\n",
        "    #false_positive_rate,true_positive_rate,thresholds=roc_curve(labels, predict_prob)\n",
        "    #roc_auc=auc(false_positive_rate, true_positive_rate, average='macro')\n",
        "    fpr = dict() \n",
        "    tpr = dict() \n",
        "    roc_auc = dict() \n",
        "    for i in range(1): \n",
        "      fpr[i], tpr[i], _ = roc_curve(labels[:, i], predict_prob[:, i]) \n",
        "      roc_auc[i] = auc(fpr[i], tpr[i])\n",
        "    fpr[\"micro\"], tpr[\"micro\"], _ = roc_curve(labels.ravel(), predict_prob.ravel()) \n",
        "    roc_auc[\"micro\"] = auc(fpr[\"micro\"], tpr[\"micro\"])\n",
        "\n",
        "    plt.title('ROC')\n",
        "    plt.plot(false_positive_rate, true_positive_rate,'b',label='AUC = %0.4f'% roc_auc)\n",
        "    plt.legend(loc='lower right')\n",
        "    plt.plot([0,1],[0,1],'r--')\n",
        "    plt.ylabel('TPR')\n",
        "    plt.xlabel('FPR')"
      ],
      "execution_count": null,
      "outputs": []
    },
    {
      "cell_type": "code",
      "metadata": {
        "id": "xNF7az3sBGIw",
        "colab_type": "code",
        "colab": {
          "base_uri": "https://localhost:8080/",
          "height": 524
        },
        "outputId": "b5dc61be-a2df-419a-98c0-ce2a97c133db"
      },
      "source": [
        "import sklearn as sk\n",
        "y_pred = model_predict(model, x_test)\n",
        "\n",
        "        \n",
        "print(\"Accuracy\", sk.metrics.accuracy_score(y_test, y_pred))\n",
        "print(\"Precision\", sk.metrics.precision_score(y_test, y_pred, average=None))\n",
        "print( \"Recall\", sk.metrics.recall_score(y_test, y_pred, average=None))\n",
        "print( \"f1_score\", sk.metrics.f1_score(y_test, y_pred, average=None))\n",
        "print( \"f1_score(macro)\", sk.metrics.f1_score(y_test, y_pred, average='macro'))\n",
        "print( \"f1_score(micro)\", sk.metrics.f1_score(y_test, y_pred, average='micro'))\n",
        "print( \"f1_score(weight)\", sk.metrics.f1_score(y_test, y_pred, average='weighted'))\n",
        "\n",
        "print( \"confusion_matrix\")\n",
        "print( sk.metrics.confusion_matrix(y_test, y_pred))\n",
        "confusion =  sk.metrics.confusion_matrix(y_test, y_pred)\n",
        "\n",
        "guess = ['IND', 'OTH', 'GRP']\n",
        "fact = ['IND', 'OTH', 'GRP']\n",
        "classes = list(set(fact))\n",
        "classes.sort()\n",
        "\n",
        "plt.imshow(confusion, cmap=plt.cm.Blues)\n",
        "indices = range(len(confusion))\n",
        "plt.xticks(indices, classes)\n",
        "plt.yticks(indices, classes)\n",
        "plt.colorbar()\n",
        "plt.xlabel('Predicted label')\n",
        "plt.ylabel('True label')\n",
        "for first_index in range(len(confusion)):\n",
        "    for second_index in range(len(confusion[first_index])):\n",
        "        plt.text(first_index, second_index, confusion[first_index][second_index])"
      ],
      "execution_count": null,
      "outputs": [
        {
          "output_type": "stream",
          "text": [
            "Accuracy 0.4694835680751174\n",
            "Precision [0.46948357 0.         0.        ]\n",
            "Recall [1. 0. 0.]\n",
            "f1_score [0.63897764 0.         0.        ]\n",
            "f1_score(macro) 0.21299254526091585\n",
            "f1_score(micro) 0.4694835680751174\n",
            "f1_score(weight) 0.2999895003674871\n",
            "confusion_matrix\n",
            "[[100   0   0]\n",
            " [ 35   0   0]\n",
            " [ 78   0   0]]\n"
          ],
          "name": "stdout"
        },
        {
          "output_type": "stream",
          "text": [
            "/usr/local/lib/python3.6/dist-packages/sklearn/metrics/_classification.py:1272: UndefinedMetricWarning: Precision is ill-defined and being set to 0.0 in labels with no predicted samples. Use `zero_division` parameter to control this behavior.\n",
            "  _warn_prf(average, modifier, msg_start, len(result))\n"
          ],
          "name": "stderr"
        },
        {
          "output_type": "display_data",
          "data": {
            "image/png": "[encoded data removed]",
            "text/plain": [
              "<Figure size 432x288 with 2 Axes>"
            ]
          },
          "metadata": {
            "tags": [],
            "needs_background": "light"
          }
        }
      ]
    }
  ]
}